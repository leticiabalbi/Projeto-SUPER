{
  "nbformat": 4,
  "nbformat_minor": 0,
  "metadata": {
    "colab": {
      "name": "Classificação de doenças respiratórias em auscultas pulmonares.ipynb",
      "provenance": [],
      "collapsed_sections": [],
      "authorship_tag": "ABX9TyMW7GFK3onLASnmZtNXKcB9",
      "include_colab_link": true
    },
    "kernelspec": {
      "name": "python3",
      "display_name": "Python 3"
    },
    "language_info": {
      "name": "python"
    },
    "accelerator": "GPU"
  },
  "cells": [
    {
      "cell_type": "markdown",
      "metadata": {
        "id": "view-in-github",
        "colab_type": "text"
      },
      "source": [
        "<a href=\"https://colab.research.google.com/github/leticiabalbi/Projeto-SUPER/blob/main/Classifica%C3%A7%C3%A3o_de_doen%C3%A7as_respirat%C3%B3rias_em_auscultas_pulmonares.ipynb\" target=\"_parent\"><img src=\"https://colab.research.google.com/assets/colab-badge.svg\" alt=\"Open In Colab\"/></a>"
      ]
    },
    {
      "cell_type": "code",
      "metadata": {
        "id": "2qwHlM20SCs6"
      },
      "source": [
        "from google.colab import drive\n",
        "drive.mount('/content/drive')\n",
        "from os import listdir     \n",
        "import pandas as pd \n",
        "import numpy as np\n",
        "import random\n",
        "import math\n",
        "import librosa\n",
        "import librosa.display\n",
        "from scipy.signal import butter, lfilter\n",
        "!pip install -q tensorflow-io\n",
        "import tensorflow_io as tfio\n",
        "from sklearn import preprocessing\n",
        "import tensorflow as tf\n",
        "from keras.models import Model, Sequential\n",
        "from keras.optimizers import Adam\n",
        "from keras.layers import Dense, Dropout, Flatten, Convolution2D, MaxPooling2D\n",
        "from keras.layers import Input, Lambda\n",
        "from keras.callbacks import EarlyStopping\n",
        "from keras.regularizers import l2\n",
        "!pip install -U tensorflow-addons\n",
        "import tensorflow_addons as tfa\n",
        "from sklearn.manifold import TSNE\n",
        "import seaborn as sns; sns.set()\n",
        "from keras import backend as K\n",
        "from sklearn.neighbors import KNeighborsClassifier\n",
        "from sklearn.metrics import classification_report, confusion_matrix, accuracy_score"
      ],
      "execution_count": null,
      "outputs": []
    },
    {
      "cell_type": "markdown",
      "metadata": {
        "id": "zLuOsNW-SuxV"
      },
      "source": [
        "# Carregando a base de dados"
      ]
    },
    {
      "cell_type": "code",
      "metadata": {
        "id": "1qaJ5EpKSk0z"
      },
      "source": [
        "!wget --load-cookies /tmp/cookies.txt \"https://docs.google.com/uc?export=download&confirm=$(wget --quiet --save-cookies /tmp/cookies.txt --keep-session-cookies --no-check-certificate 'https://docs.google.com/uc?export=download&id=1xPucswVV0cBpWCcMNyCahznH6wRe3Oza' -O- | sed -rn 's/.*confirm=([0-9A-Za-z_]+).*/\\1\\n/p')&id=1xPucswVV0cBpWCcMNyCahznH6wRe3Oza\" -O Respiratory_Sound_Database.tar && rm -rf /tmp/cookies.txt\n",
        "!tar -C ./ -xvf './Respiratory_Sound_Database.tar'"
      ],
      "execution_count": null,
      "outputs": []
    },
    {
      "cell_type": "code",
      "metadata": {
        "id": "20F8o_tWSzAp"
      },
      "source": [
        "files_path = './Respiratory_Sound_Database/audio_and_txt_files/'          #caminho das amostras de áudio e suas anotações\n",
        "diagnosis_path = './Respiratory_Sound_Database/patient_diagnosis.csv'     #caminho do diagnóstico de cada paciente"
      ],
      "execution_count": 4,
      "outputs": []
    },
    {
      "cell_type": "markdown",
      "metadata": {
        "id": "oyoXac4cTG0Q"
      },
      "source": [
        "# Dataframe das informações necessárias para a realização do experimento"
      ]
    },
    {
      "cell_type": "code",
      "metadata": {
        "id": "dqbE2Q4ETEiK"
      },
      "source": [
        "#Função que retorna o nome de todos os arquivos de uma extensão presentes em um diretório\n",
        "def files_from_path(path, extension):\n",
        "  # path: diretório em que se deseja buscar os arquivos \n",
        "  # extension: extensão dos arquivos\n",
        "  files = []\n",
        "  for file in listdir(path):\n",
        "    if file.endswith(extension):\n",
        "      files.append(file)\n",
        "  return sorted(files)\n",
        "\n",
        "#Função que retorna um vetor com as informações contidas no nome de uma amostra de áudio\n",
        "def tokenize_file(filename):\n",
        "    # filename: nome da amostra de áudio\n",
        "    return filename.split('_')"
      ],
      "execution_count": 5,
      "outputs": []
    },
    {
      "cell_type": "code",
      "metadata": {
        "colab": {
          "base_uri": "https://localhost:8080/",
          "height": 419
        },
        "id": "MgeIq-6ATN3o",
        "outputId": "bd482924-bebd-4da5-eea0-21b494477f7b"
      },
      "source": [
        "annotations = files_from_path(files_path, \".txt\")   \n",
        "files_ = []\n",
        "\n",
        "for txt_file in annotations:\n",
        "    df_annotations = pd.read_csv(files_path + txt_file, sep='\\t', names=['start', 'end', 'crackles', 'wheezes'])\n",
        "    txt_file = txt_file[:-4]\n",
        "    df_annotations['wav_file'] = txt_file + '.wav'\n",
        "    df_annotations['patient_number'] = tokenize_file(txt_file)[0]\n",
        "    df_annotations['position'] = tokenize_file(txt_file)[2]\n",
        "    df_annotations['channel'] = tokenize_file(txt_file)[3]\n",
        "    df_annotations['device'] = tokenize_file(txt_file)[4]\n",
        "    files_.append(df_annotations)\n",
        "\n",
        "df_annotations = pd.concat(files_).reset_index(drop=True)\n",
        "df_annotations['patient_number'] = df_annotations['patient_number'].astype('float64')\n",
        "\n",
        "col_names= ['patient_number', 'diagnosis']    \n",
        "df_diag = pd.read_csv(diagnosis_path, sep=\",\", header=None, names=col_names)\n",
        "df_annotations = pd.merge(df_annotations, df_diag, on = 'patient_number')\n",
        "\n",
        "df_annotations.head(1000)"
      ],
      "execution_count": 6,
      "outputs": [
        {
          "output_type": "execute_result",
          "data": {
            "text/html": [
              "<div>\n",
              "<style scoped>\n",
              "    .dataframe tbody tr th:only-of-type {\n",
              "        vertical-align: middle;\n",
              "    }\n",
              "\n",
              "    .dataframe tbody tr th {\n",
              "        vertical-align: top;\n",
              "    }\n",
              "\n",
              "    .dataframe thead th {\n",
              "        text-align: right;\n",
              "    }\n",
              "</style>\n",
              "<table border=\"1\" class=\"dataframe\">\n",
              "  <thead>\n",
              "    <tr style=\"text-align: right;\">\n",
              "      <th></th>\n",
              "      <th>start</th>\n",
              "      <th>end</th>\n",
              "      <th>crackles</th>\n",
              "      <th>wheezes</th>\n",
              "      <th>wav_file</th>\n",
              "      <th>patient_number</th>\n",
              "      <th>position</th>\n",
              "      <th>channel</th>\n",
              "      <th>device</th>\n",
              "      <th>diagnosis</th>\n",
              "    </tr>\n",
              "  </thead>\n",
              "  <tbody>\n",
              "    <tr>\n",
              "      <th>0</th>\n",
              "      <td>0.036</td>\n",
              "      <td>0.579</td>\n",
              "      <td>0</td>\n",
              "      <td>0</td>\n",
              "      <td>101_1b1_Al_sc_Meditron.wav</td>\n",
              "      <td>101.0</td>\n",
              "      <td>Al</td>\n",
              "      <td>sc</td>\n",
              "      <td>Meditron</td>\n",
              "      <td>URTI</td>\n",
              "    </tr>\n",
              "    <tr>\n",
              "      <th>1</th>\n",
              "      <td>0.579</td>\n",
              "      <td>2.450</td>\n",
              "      <td>0</td>\n",
              "      <td>0</td>\n",
              "      <td>101_1b1_Al_sc_Meditron.wav</td>\n",
              "      <td>101.0</td>\n",
              "      <td>Al</td>\n",
              "      <td>sc</td>\n",
              "      <td>Meditron</td>\n",
              "      <td>URTI</td>\n",
              "    </tr>\n",
              "    <tr>\n",
              "      <th>2</th>\n",
              "      <td>2.450</td>\n",
              "      <td>3.893</td>\n",
              "      <td>0</td>\n",
              "      <td>0</td>\n",
              "      <td>101_1b1_Al_sc_Meditron.wav</td>\n",
              "      <td>101.0</td>\n",
              "      <td>Al</td>\n",
              "      <td>sc</td>\n",
              "      <td>Meditron</td>\n",
              "      <td>URTI</td>\n",
              "    </tr>\n",
              "    <tr>\n",
              "      <th>3</th>\n",
              "      <td>3.893</td>\n",
              "      <td>5.793</td>\n",
              "      <td>0</td>\n",
              "      <td>0</td>\n",
              "      <td>101_1b1_Al_sc_Meditron.wav</td>\n",
              "      <td>101.0</td>\n",
              "      <td>Al</td>\n",
              "      <td>sc</td>\n",
              "      <td>Meditron</td>\n",
              "      <td>URTI</td>\n",
              "    </tr>\n",
              "    <tr>\n",
              "      <th>4</th>\n",
              "      <td>5.793</td>\n",
              "      <td>7.521</td>\n",
              "      <td>0</td>\n",
              "      <td>0</td>\n",
              "      <td>101_1b1_Al_sc_Meditron.wav</td>\n",
              "      <td>101.0</td>\n",
              "      <td>Al</td>\n",
              "      <td>sc</td>\n",
              "      <td>Meditron</td>\n",
              "      <td>URTI</td>\n",
              "    </tr>\n",
              "    <tr>\n",
              "      <th>...</th>\n",
              "      <td>...</td>\n",
              "      <td>...</td>\n",
              "      <td>...</td>\n",
              "      <td>...</td>\n",
              "      <td>...</td>\n",
              "      <td>...</td>\n",
              "      <td>...</td>\n",
              "      <td>...</td>\n",
              "      <td>...</td>\n",
              "      <td>...</td>\n",
              "    </tr>\n",
              "    <tr>\n",
              "      <th>995</th>\n",
              "      <td>13.202</td>\n",
              "      <td>15.384</td>\n",
              "      <td>1</td>\n",
              "      <td>0</td>\n",
              "      <td>127_1b1_Ar_sc_Meditron.wav</td>\n",
              "      <td>127.0</td>\n",
              "      <td>Ar</td>\n",
              "      <td>sc</td>\n",
              "      <td>Meditron</td>\n",
              "      <td>Healthy</td>\n",
              "    </tr>\n",
              "    <tr>\n",
              "      <th>996</th>\n",
              "      <td>15.384</td>\n",
              "      <td>17.167</td>\n",
              "      <td>0</td>\n",
              "      <td>0</td>\n",
              "      <td>127_1b1_Ar_sc_Meditron.wav</td>\n",
              "      <td>127.0</td>\n",
              "      <td>Ar</td>\n",
              "      <td>sc</td>\n",
              "      <td>Meditron</td>\n",
              "      <td>Healthy</td>\n",
              "    </tr>\n",
              "    <tr>\n",
              "      <th>997</th>\n",
              "      <td>17.167</td>\n",
              "      <td>19.421</td>\n",
              "      <td>1</td>\n",
              "      <td>0</td>\n",
              "      <td>127_1b1_Ar_sc_Meditron.wav</td>\n",
              "      <td>127.0</td>\n",
              "      <td>Ar</td>\n",
              "      <td>sc</td>\n",
              "      <td>Meditron</td>\n",
              "      <td>Healthy</td>\n",
              "    </tr>\n",
              "    <tr>\n",
              "      <th>998</th>\n",
              "      <td>19.421</td>\n",
              "      <td>19.934</td>\n",
              "      <td>0</td>\n",
              "      <td>0</td>\n",
              "      <td>127_1b1_Ar_sc_Meditron.wav</td>\n",
              "      <td>127.0</td>\n",
              "      <td>Ar</td>\n",
              "      <td>sc</td>\n",
              "      <td>Meditron</td>\n",
              "      <td>Healthy</td>\n",
              "    </tr>\n",
              "    <tr>\n",
              "      <th>999</th>\n",
              "      <td>0.022</td>\n",
              "      <td>3.150</td>\n",
              "      <td>1</td>\n",
              "      <td>0</td>\n",
              "      <td>128_1b3_Tc_mc_LittC2SE.wav</td>\n",
              "      <td>128.0</td>\n",
              "      <td>Tc</td>\n",
              "      <td>mc</td>\n",
              "      <td>LittC2SE</td>\n",
              "      <td>COPD</td>\n",
              "    </tr>\n",
              "  </tbody>\n",
              "</table>\n",
              "<p>1000 rows × 10 columns</p>\n",
              "</div>"
            ],
            "text/plain": [
              "      start     end  crackles  wheezes  ... position  channel    device diagnosis\n",
              "0     0.036   0.579         0        0  ...       Al       sc  Meditron      URTI\n",
              "1     0.579   2.450         0        0  ...       Al       sc  Meditron      URTI\n",
              "2     2.450   3.893         0        0  ...       Al       sc  Meditron      URTI\n",
              "3     3.893   5.793         0        0  ...       Al       sc  Meditron      URTI\n",
              "4     5.793   7.521         0        0  ...       Al       sc  Meditron      URTI\n",
              "..      ...     ...       ...      ...  ...      ...      ...       ...       ...\n",
              "995  13.202  15.384         1        0  ...       Ar       sc  Meditron   Healthy\n",
              "996  15.384  17.167         0        0  ...       Ar       sc  Meditron   Healthy\n",
              "997  17.167  19.421         1        0  ...       Ar       sc  Meditron   Healthy\n",
              "998  19.421  19.934         0        0  ...       Ar       sc  Meditron   Healthy\n",
              "999   0.022   3.150         1        0  ...       Tc       mc  LittC2SE      COPD\n",
              "\n",
              "[1000 rows x 10 columns]"
            ]
          },
          "metadata": {
            "tags": []
          },
          "execution_count": 6
        }
      ]
    },
    {
      "cell_type": "markdown",
      "metadata": {
        "id": "jsHqPqAwT1az"
      },
      "source": [
        "# Remoção das classes Asthma e LRTI"
      ]
    },
    {
      "cell_type": "code",
      "metadata": {
        "id": "orbxOPM9TRLw"
      },
      "source": [
        "# Função que imprime a quantidade de pacientes que cada classe possui\n",
        "def patient_per_class(df):\n",
        "  print(\"Asthma: \"+ str(len(np.unique(df.loc[df['diagnosis'] == 'Asthma']['patient_number']))))\n",
        "  print(\"Bronchiolitis: \"+ str(len(np.unique(df.loc[df['diagnosis'] == 'Bronchiolitis']['patient_number']))))\n",
        "  print(\"Bronchiectasis: \"+ str(len(np.unique(df.loc[df['diagnosis'] == 'Bronchiectasis']['patient_number']))))\n",
        "  print(\"COPD: \"+ str(len(np.unique(df.loc[df['diagnosis'] == 'COPD']['patient_number']))))\n",
        "  print(\"Healthy: \"+ str(len(np.unique(df.loc[df['diagnosis'] == 'Healthy']['patient_number']))))\n",
        "  print(\"LRTI: \"+ str(len(np.unique(df.loc[df['diagnosis'] == 'LRTI']['patient_number']))))\n",
        "  print(\"Pneumonia: \"+ str(len(np.unique(df.loc[df['diagnosis'] == 'Pneumonia']['patient_number']))))\n",
        "  print(\"URTI: \"+ str(len(np.unique(df.loc[df['diagnosis'] == 'URTI']['patient_number']))))\n",
        "  print(\" \")"
      ],
      "execution_count": 7,
      "outputs": []
    },
    {
      "cell_type": "code",
      "metadata": {
        "colab": {
          "base_uri": "https://localhost:8080/"
        },
        "id": "8u2WX_ISUD2L",
        "outputId": "0164a2ab-2df7-407f-fc67-e973efd85eb5"
      },
      "source": [
        "patient_per_class(df_annotations)"
      ],
      "execution_count": 8,
      "outputs": [
        {
          "output_type": "stream",
          "text": [
            "Asthma: 1\n",
            "Bronchiolitis: 6\n",
            "Bronchiectasis: 7\n",
            "COPD: 64\n",
            "Healthy: 26\n",
            "LRTI: 2\n",
            "Pneumonia: 6\n",
            "URTI: 14\n",
            " \n"
          ],
          "name": "stdout"
        }
      ]
    },
    {
      "cell_type": "code",
      "metadata": {
        "id": "luqW7tqxUHrB"
      },
      "source": [
        "df_annotations = df_annotations[(df_annotations['diagnosis'] != 'Asthma') & (df_annotations['diagnosis'] != 'LRTI')]\n",
        "df_annotations = df_annotations.reset_index(drop=True)"
      ],
      "execution_count": 9,
      "outputs": []
    },
    {
      "cell_type": "markdown",
      "metadata": {
        "id": "QnLFpE1iUTFO"
      },
      "source": [
        "# Divisão da base em treino, teste e validação"
      ]
    },
    {
      "cell_type": "markdown",
      "metadata": {
        "id": "FD3kd6ovUgdT"
      },
      "source": [
        "![Design sem nome.png](data:image/png;base64,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)"
      ]
    },
    {
      "cell_type": "code",
      "metadata": {
        "id": "iqVi9kXxUO2g"
      },
      "source": [
        "# O intuito é, que para cada base (treino, teste e validação), a quantidade de pacientes por classe seja proporcional\n",
        "train_size_per_class = 70             #Treino = 70% dos pacientes de cada classe        \n",
        "test_size_per_class = 15              #Teste =  15% dos pacientes de cada classe\n",
        "                                      #Validação = 15% dos pacientes de cada classe\n",
        "\n",
        "# Para cada classe forma um vetor contendo o id de cada paciente \n",
        "patients_Bronchiolitis = np.unique(df_annotations.loc[df_annotations['diagnosis'] == 'Bronchiolitis']['patient_number'])\n",
        "patients_Bronchiectasis = np.unique(df_annotations.loc[df_annotations['diagnosis'] == 'Bronchiectasis']['patient_number'])\n",
        "patients_COPD = np.unique(df_annotations.loc[df_annotations['diagnosis'] == 'COPD']['patient_number'])\n",
        "patients_Healthy = np.unique(df_annotations.loc[df_annotations['diagnosis'] == 'Healthy']['patient_number'])\n",
        "patients_Pneumonia = np.unique(df_annotations.loc[df_annotations['diagnosis'] == 'Pneumonia']['patient_number'])\n",
        "patients_URTI = np.unique(df_annotations.loc[df_annotations['diagnosis'] == 'URTI']['patient_number'])\n",
        "\n",
        "#Embaralha aleatoriamente o vetor do id dos pacientes\n",
        "random.Random(3).shuffle(patients_Bronchiolitis)\n",
        "random.Random(3).shuffle(patients_Bronchiectasis)\n",
        "random.Random(3).shuffle(patients_COPD)\n",
        "random.Random(3).shuffle(patients_Healthy)\n",
        "random.Random(3).shuffle(patients_Pneumonia)\n",
        "random.Random(3).shuffle(patients_URTI)\n",
        "\n",
        "#Define a quantidade de pacientes que cada classe irá ter no treino\n",
        "train_Bronchiolitis = (train_size_per_class*len(patients_Bronchiolitis))//100\n",
        "train_Bronchiectasis = (train_size_per_class*len(patients_Bronchiectasis))//100\n",
        "train_COPD = (train_size_per_class*len(patients_COPD))//100\n",
        "train_Healthy = (train_size_per_class*len(patients_Healthy))//100\n",
        "train_Pneumonia = (train_size_per_class*len(patients_Pneumonia))//100\n",
        "train_URTI = (train_size_per_class*len(patients_URTI))//100\n",
        "\n",
        "#Define a quantidade de pacientes que cada classe irá ter no teste\n",
        "test_Bronchiolitis = math.ceil((test_size_per_class*len(patients_Bronchiolitis))/100)\n",
        "test_Bronchiectasis = (test_size_per_class*len(patients_Bronchiectasis))//100\n",
        "test_COPD = (test_size_per_class*len(patients_COPD))//100\n",
        "test_Healthy = (test_size_per_class*len(patients_Healthy))//100\n",
        "test_Pneumonia = ((test_size_per_class*len(patients_Pneumonia))//100) + 1\n",
        "test_URTI = (test_size_per_class*len(patients_URTI))//100\n",
        "\n",
        "#Cria dataframe de treino\n",
        "df_train = df_annotations.loc[df_annotations['patient_number'] == patients_Bronchiolitis[0]]\n",
        "for i in range(1,train_Bronchiolitis):\n",
        "  df_train = df_train.append(df_annotations.loc[df_annotations['patient_number'] == patients_Bronchiolitis[i]])\n",
        "for i in range(train_Bronchiectasis):\n",
        "  df_train = df_train.append(df_annotations.loc[df_annotations['patient_number'] == patients_Bronchiectasis[i]])\n",
        "for i in range(train_COPD):\n",
        "  df_train = df_train.append(df_annotations.loc[df_annotations['patient_number'] == patients_COPD[i]])\n",
        "for i in range(train_Healthy):\n",
        "  df_train = df_train.append(df_annotations.loc[df_annotations['patient_number'] == patients_Healthy[i]])\n",
        "for i in range(train_Pneumonia):\n",
        "  df_train = df_train.append(df_annotations.loc[df_annotations['patient_number'] == patients_Pneumonia[i]])\n",
        "for i in range(train_URTI):\n",
        "  df_train = df_train.append(df_annotations.loc[df_annotations['patient_number'] == patients_URTI[i]])\n",
        "\n",
        "#Cria dataframe de teste\n",
        "df_test = df_annotations.loc[df_annotations['patient_number'] == patients_Bronchiolitis[train_Bronchiolitis]]\n",
        "for i in range(train_Bronchiolitis+1,train_Bronchiolitis+test_Bronchiolitis):\n",
        "  df_test = df_test.append(df_annotations.loc[df_annotations['patient_number'] == patients_Bronchiolitis[i]])\n",
        "for i in range(train_Bronchiectasis,train_Bronchiectasis+test_Bronchiectasis):\n",
        "  df_test = df_test.append(df_annotations.loc[df_annotations['patient_number'] == patients_Bronchiectasis[i]])\n",
        "for i in range(train_COPD,train_COPD+test_COPD):\n",
        "  df_test = df_test.append(df_annotations.loc[df_annotations['patient_number'] == patients_COPD[i]])\n",
        "for i in range(train_Healthy,train_Healthy+test_Healthy):\n",
        "  df_test = df_test.append(df_annotations.loc[df_annotations['patient_number'] == patients_Healthy[i]])\n",
        "for i in range(train_Pneumonia,train_Pneumonia+test_Pneumonia):\n",
        "  df_test = df_test.append(df_annotations.loc[df_annotations['patient_number'] == patients_Pneumonia[i]])\n",
        "for i in range(train_URTI,train_URTI+test_URTI):\n",
        "  df_test = df_test.append(df_annotations.loc[df_annotations['patient_number'] == patients_URTI[i]])\n",
        "\n",
        "#Cria dataframe de validação\n",
        "df_val = df_annotations.loc[df_annotations['patient_number'] == patients_Bronchiolitis[train_Bronchiolitis+test_Bronchiolitis]]\n",
        "for i in range(train_Bronchiolitis+test_Bronchiolitis+1,len(patients_Bronchiolitis)):\n",
        "  df_val = df_val.append(df_annotations.loc[df_annotations['patient_number'] == patients_Bronchiolitis[i]])\n",
        "for i in range(train_Bronchiectasis+test_Bronchiectasis,len(patients_Bronchiectasis)):\n",
        "  df_val = df_val.append(df_annotations.loc[df_annotations['patient_number'] == patients_Bronchiectasis[i]])\n",
        "for i in range(train_COPD+test_COPD,len(patients_COPD)):\n",
        "  df_val = df_val.append(df_annotations.loc[df_annotations['patient_number'] == patients_COPD[i]])\n",
        "for i in range(train_Healthy+test_Healthy,len(patients_Healthy)):\n",
        "  df_val = df_val.append(df_annotations.loc[df_annotations['patient_number'] == patients_Healthy[i]])\n",
        "for i in range(train_Pneumonia+test_Pneumonia,len(patients_Pneumonia)):\n",
        "  df_val = df_val.append(df_annotations.loc[df_annotations['patient_number'] == patients_Pneumonia[i]])\n",
        "for i in range(train_URTI+test_URTI,len(patients_URTI)):\n",
        "  df_val = df_val.append(df_annotations.loc[df_annotations['patient_number'] == patients_URTI[i]])\n"
      ],
      "execution_count": 46,
      "outputs": []
    },
    {
      "cell_type": "markdown",
      "metadata": {
        "id": "Z-m8HLLrf6gW"
      },
      "source": [
        "# Pré processamento"
      ]
    },
    {
      "cell_type": "markdown",
      "metadata": {
        "id": "0A-OQ258f87_"
      },
      "source": [
        "\n",
        "\n",
        "1.   **Reamostragem de frequência**: as amostras da base apresentam diferentes frequências de amostragem, então é necessário padronizar;\n",
        "2.   **Filtragem de ruídos**: tentativa de filtrar sons indesejáveis, tais como batidas do coração e ruídos do ambiente hospitalar;\n",
        "3.   **Normalização**: normalização da amplitude do sinal.\n",
        "4.   **Preenchimento inteligente**: etapa baseada [neste artigo](https://arxiv.org/pdf/2011.00196.pdf);\n"
      ]
    },
    {
      "cell_type": "code",
      "metadata": {
        "id": "77BUlKBZfg4T"
      },
      "source": [
        "sr = 8001"
      ],
      "execution_count": 50,
      "outputs": []
    },
    {
      "cell_type": "code",
      "metadata": {
        "id": "vezpv-teg7is"
      },
      "source": [
        "# Preenchimento inteligiente\n",
        "def smart_padding(df, sample, max_len):\n",
        "  # df: dataframe das amostras que se deseja realizar a segmentação e preenchimento\n",
        "  # sample: sinal de áudio completo\n",
        "  # max_len: quantos segundos um segmento deve ter\n",
        "  segments = []\n",
        "  time = 0            #conta a duração de um segmento\n",
        "  start = df['start']\n",
        "  end = df['end']\n",
        "  crackles = df['crackles']\n",
        "  wheezes = df['wheezes']\n",
        "\n",
        "  for j in range(len(df)):\n",
        "    k = j\n",
        "    segment = []\n",
        "    time = 0\n",
        "    while time < max_len + 0.2:\n",
        "      #informações a respeito do ciclo atual\n",
        "      start_now = start[k]\n",
        "      end_now = end[k]\n",
        "      crackles_now = crackles[k]\n",
        "      wheezes_now = wheezes[k]\n",
        "      cycle_now = sample[int(start_now*sr) : int(end_now*sr)]\n",
        "\n",
        "      #insere o ciclo atual no segmento\n",
        "      segment = np.append(segment,cycle_now)\n",
        "      time+= (end_now - start_now)\n",
        "\n",
        "      if time < max_len + 0.2:            # 0.2 é uma espécie de \"margem\"\n",
        "        # Se o ciclo atual for o primeiro ciclo da amostra\n",
        "        if k == 0:\n",
        "          # Analisa o ciclo posterior\n",
        "          start_after = start[k+1]\n",
        "          end_after = end[k+1]\n",
        "          crackles_after = crackles[k+1]\n",
        "          wheezes_after = wheezes[k+1]\n",
        "          #Se o ciclo posterior tiver a mesma ocorrência de sons respiratórios anormais que a amostra atual ou não tiver nenhuma ocorrência desses sons, então ele será o novo ciclo atual\n",
        "          if ((crackles_after == crackles_now) and (wheezes_after == wheezes_now)) or ((crackles_after == 0) and (wheezes_after == 0)):\n",
        "            k+=1\n",
        "          # Senão insere o ciclo atual no segmento até que o mesmo complete o tempo máximo\n",
        "          else:\n",
        "            while time < max_len + 0.2:\n",
        "              segment = np.append(segment,cycle_now)\n",
        "              time+= (end_now - start_now)\n",
        "        # Se o ciclo atual for o último ciclo da amostra de áudio\n",
        "        elif k == len(df)-1:\n",
        "          # Analisa o ciclo anterior\n",
        "          start_before = start[k-1]\n",
        "          end_before = end[k-1]\n",
        "          crackles_before = crackles[k-1]\n",
        "          wheezes_before = wheezes[k-1]\n",
        "          #Se o ciclo anterior tiver a mesma ocorrência de sons respiratórios anormais que a amostra atual ou não tiver nenhuma ocorrência desses sons, então ele será inserido no segmento\n",
        "          if ((crackles_before == crackles_now) and (wheezes_before == wheezes_now)) or ((crackles_before == 0) and (wheezes_before == 0)):\n",
        "            cycle_before = sample[int(start_before*sr) : int(end_before*sr)]\n",
        "            segment = np.append(segment,cycle_before)\n",
        "            time += (end_before - start_before)\n",
        "          #Senão o ciclo atual será inserido no segmento\n",
        "          else:\n",
        "            segment = np.append(segment,cycle_now)\n",
        "            time += (end_now - start_now)\n",
        "          # Insere o ciclo atual no segmento até que o mesmo complete o tempo máximo\n",
        "          while time < max_len + 0.2:\n",
        "            segment = np.append(segment,cycle_now)\n",
        "            time += (end_now - start_now)\n",
        "        # Se o ciclo atual não for nem o primeiro e nem o último ciclo de uma amostra de áudio\n",
        "        else:\n",
        "          # Analisa o ciclo anterior\n",
        "          start_before = start[k-1]\n",
        "          end_before = end[k-1]\n",
        "          crackles_before = crackles[k-1]\n",
        "          wheezes_before = wheezes[k-1]\n",
        "          #Se o ciclo anterior tiver a mesma ocorrência de sons respiratórios anormais que a amostra atual ou não tiver nenhuma ocorrência desses sons, então ele será inserido no segmento\n",
        "          if ((crackles_before == crackles_now) and (wheezes_before == wheezes_now)) or ((crackles_before == 0) and (wheezes_before == 0)):\n",
        "            cycle_before = sample[int(start_before*sr) : int(end_before*sr)]\n",
        "            segment = np.append(segment,cycle_before)\n",
        "            time += (end_before - start_before)\n",
        "          #Senão o ciclo atual será inserido no segmento\n",
        "          else:\n",
        "            segment = np.append(segment,cycle_now)\n",
        "            time += (end_now - start_now)\n",
        "          if time < max_len + 0.2:\n",
        "              # Analisa o ciclo posterior\n",
        "              start_after = start[k+1]\n",
        "              end_after = end[k+1]\n",
        "              crackles_after = crackles[k+1]\n",
        "              wheezes_after = wheezes[k+1]\n",
        "              #Se o ciclo posterior tiver a mesma ocorrência de sons respiratórios anormais que a amostra atual ou não tiver nenhuma ocorrência desses sons, então ele será o novo ciclo atual\n",
        "              if ((crackles_after == crackles_now) and (wheezes_after == wheezes_now)) or ((crackles_after == 0) and (wheezes_after == 0)):\n",
        "                k+=1\n",
        "              # Senão insere o ciclo atual no segmento até que o mesmo complete o tempo máximo\n",
        "              else:\n",
        "                while time < max_len + 0.2:\n",
        "                  segment = np.append(segment,cycle_now)\n",
        "                  time += (end_now - start_now)\n",
        "\n",
        "    segments.append(segment[:max_len*sr])\n",
        "  return segments"
      ],
      "execution_count": 64,
      "outputs": []
    },
    {
      "cell_type": "code",
      "metadata": {
        "id": "qJvI0Wn-sg7e"
      },
      "source": [
        "# Filtro Butterworth\n",
        "def butter_bandpass(lowcut, highcut, fs, order):\n",
        "    nyq = 0.5 * fs\n",
        "    low = lowcut / nyq\n",
        "    high = highcut / nyq\n",
        "    b, a = butter(order, [low, high], btype='band')\n",
        "    return b, a\n",
        "\n",
        "def butter_bandpass_filter(data, lowcut, highcut, fs, order):\n",
        "    b, a = butter_bandpass(lowcut, highcut, fs, order=order)\n",
        "    y = lfilter(b, a, data)\n",
        "    return y"
      ],
      "execution_count": 65,
      "outputs": []
    },
    {
      "cell_type": "code",
      "metadata": {
        "id": "amazzWWgg_vB"
      },
      "source": [
        "# Função de Pré processamento. Retorna um vetor com todas as amostras pré processadas e suas respectivas classes.\n",
        "def preprocessing(df, path, max_len):\n",
        "  # df: dataframe das amostras que se deseja realizar o pré processamento\n",
        "  # path: diretorio em que se encontram os áudios .wav\n",
        "  # max_len: quantos segundos um segmento deve ter\n",
        "  preprocessed_samples = []\n",
        "  class_ = []\n",
        "  files = np.unique(df['wav_file'])\n",
        "  for i in range(len(files)):\n",
        "    filename = files[i]\n",
        "    df_cycles = df.loc[df['wav_file'] == filename].reset_index(drop=True)\n",
        "    label = df_cycles['diagnosis'][0]\n",
        "\n",
        "    print(\"Pre processando \" + filename + \"...\")\n",
        "\n",
        "    #reamostragem\n",
        "    sample = librosa.load(path + filename, sr=sr)[0]\n",
        "    \n",
        "    #Filtragem\n",
        "    sample = butter_bandpass_filter(sample, 50, 2500, sr, 6)\n",
        "\n",
        "    #Normalização\n",
        "    sample = librosa.util.normalize(sample)\n",
        "\n",
        "    #Segmentação e preenchimento inteligente\n",
        "    segments = smart_padding(df_cycles, sample, max_len)\n",
        "\n",
        "    for i in range(len(segments)):\n",
        "      preprocessed_samples.append(segments[i])\n",
        "      class_.append(label)\n",
        "\n",
        "  return preprocessed_samples, class_"
      ],
      "execution_count": 77,
      "outputs": []
    },
    {
      "cell_type": "code",
      "metadata": {
        "id": "AHVw9Pr9tBWj"
      },
      "source": [
        "x_train, y_train = preprocessing(df_train, files_path, 7)\n",
        "x_test, y_test = preprocessing(df_test, files_path, 7)\n",
        "x_val, y_val = preprocessing(df_val, files_path, 7)"
      ],
      "execution_count": null,
      "outputs": []
    },
    {
      "cell_type": "markdown",
      "metadata": {
        "id": "4qpzas8VFBsN"
      },
      "source": [
        "# Extração de características: Espectrogramas Mel"
      ]
    },
    {
      "cell_type": "code",
      "metadata": {
        "id": "Ec1zOI6rE6I8"
      },
      "source": [
        "# Função que retorna os espectrogramas dos segmentos\n",
        "def mel_spectrograms(x):\n",
        "  #x: segmentos de áudio\n",
        "  espectrograms = []\n",
        "\n",
        "  for i in range(len(x)):\n",
        "    M = librosa.feature.melspectrogram(x[i], sr, fmax = sr/2, n_fft=256, hop_length=128, n_mels = 24, window = 'hamming')\n",
        "    log_power = librosa.power_to_db(M, ref=np.max)\n",
        "\n",
        "    espectrograms.append(log_power)\n",
        "\n",
        "  return espectrograms"
      ],
      "execution_count": 90,
      "outputs": []
    },
    {
      "cell_type": "code",
      "metadata": {
        "id": "22NAl88QFrDU"
      },
      "source": [
        "x_train = mel_spectrograms(x_train)\n",
        "x_test = mel_spectrograms(x_test)\n",
        "x_val = mel_spectrograms(x_val)"
      ],
      "execution_count": 91,
      "outputs": []
    },
    {
      "cell_type": "code",
      "metadata": {
        "colab": {
          "base_uri": "https://localhost:8080/",
          "height": 269
        },
        "id": "7W005_SZFvQs",
        "outputId": "ab58aa0f-9636-4657-edc9-2476edf310c8"
      },
      "source": [
        "librosa.display.specshow(x_train[0])"
      ],
      "execution_count": 94,
      "outputs": [
        {
          "output_type": "execute_result",
          "data": {
            "text/plain": [
              "<matplotlib.collections.QuadMesh at 0x7fd8cdff9b10>"
            ]
          },
          "metadata": {
            "tags": []
          },
          "execution_count": 94
        },
        {
          "output_type": "display_data",
          "data": {
            "image/png": "[encoded data removed]",
            "text/plain": [
              "<Figure size 432x288 with 1 Axes>"
            ]
          },
          "metadata": {
            "tags": []
          }
        }
      ]
    },
    {
      "cell_type": "markdown",
      "metadata": {
        "id": "RWmGx8sVGdX8"
      },
      "source": [
        "# Aumentação de dados: SpecAugment"
      ]
    },
    {
      "cell_type": "code",
      "metadata": {
        "colab": {
          "base_uri": "https://localhost:8080/"
        },
        "id": "LdRcxiBKHRv9",
        "outputId": "552e9836-27be-4df4-d305-3000eef02dcb"
      },
      "source": [
        "np.unique(y_train, return_counts=True)"
      ],
      "execution_count": 227,
      "outputs": [
        {
          "output_type": "execute_result",
          "data": {
            "text/plain": [
              "(array(['Bronchiectasis', 'Bronchiolitis', 'COPD', 'Healthy', 'Pneumonia',\n",
              "        'URTI'], dtype='<U14'), array([  49,  114, 4303,  184,  147,  175]))"
            ]
          },
          "metadata": {
            "tags": []
          },
          "execution_count": 227
        }
      ]
    },
    {
      "cell_type": "markdown",
      "metadata": {
        "id": "_4mJdEH7QeqG"
      },
      "source": [
        "### Mascaramento de frequência"
      ]
    },
    {
      "cell_type": "code",
      "metadata": {
        "id": "BoY5FUBEHT90"
      },
      "source": [
        "def frequency_masking(x, y, class_, n_mask, param):\n",
        "  #x: conjunto de amostras originais \n",
        "  #y: classes originais\n",
        "  #class_: classe em que as amostras devem ser aumentadas\n",
        "  #n_mask: quantidade de mascaras\n",
        "  #param: o mascaramento é escolhido aleatoriamente entre uma distribuição uniforme entre 0 e param\n",
        "  augmented_espectrograms = []\n",
        "  augmented_class = []\n",
        "  for i in range(len(class_)):\n",
        "    for j in range(len(y)):\n",
        "      mask = n_mask\n",
        "      if y[j] == class_[i]:\n",
        "        if mask > 0:\n",
        "          freq_mask = tfio.experimental.audio.freq_mask(x[j], param= param)\n",
        "          mask -= 1\n",
        "          while mask > 0:\n",
        "            freq_mask = tfio.experimental.audio.freq_mask(freq_mask, param= param)\n",
        "            mask -= 1\n",
        "          augmented_espectrograms.append(freq_mask.numpy())\n",
        "          augmented_class.append(y[j])\n",
        "  return augmented_espectrograms,augmented_class            #retorna somente as amostras aumentadas"
      ],
      "execution_count": 279,
      "outputs": []
    },
    {
      "cell_type": "code",
      "metadata": {
        "id": "Hb79BiDJL94C"
      },
      "source": [
        "x_fm3,y_fm3 = frequency_masking(x_train, y_train, ['Bronchiectasis','Bronchiolitis', 'Healthy', 'Pneumonia', 'URTI'], 3, 30)\n",
        "x_fm4,y_fm4 = frequency_masking(x_train, y_train, ['Bronchiectasis','Bronchiolitis', 'Healthy', 'Pneumonia', 'URTI'], 4, 30)"
      ],
      "execution_count": 280,
      "outputs": []
    },
    {
      "cell_type": "code",
      "metadata": {
        "colab": {
          "base_uri": "https://localhost:8080/",
          "height": 269
        },
        "id": "6sA6A-hbUFFV",
        "outputId": "9f431a6e-e342-41ea-d688-3a03dbdfc4c8"
      },
      "source": [
        "librosa.display.specshow(x_fm3[0])"
      ],
      "execution_count": 281,
      "outputs": [
        {
          "output_type": "execute_result",
          "data": {
            "text/plain": [
              "<matplotlib.collections.QuadMesh at 0x7fd8953dd490>"
            ]
          },
          "metadata": {
            "tags": []
          },
          "execution_count": 281
        },
        {
          "output_type": "display_data",
          "data": {
            "image/png": "[encoded data removed]",
            "text/plain": [
              "<Figure size 432x288 with 1 Axes>"
            ]
          },
          "metadata": {
            "tags": []
          }
        }
      ]
    },
    {
      "cell_type": "markdown",
      "metadata": {
        "id": "29Fnx-PvSa24"
      },
      "source": [
        "### Mascaramento de tempo"
      ]
    },
    {
      "cell_type": "code",
      "metadata": {
        "id": "l-Nr1BB_QMa1"
      },
      "source": [
        "def time_masking(x, y, class_, n_mask, param):\n",
        "  #x: conjunto de amostras originais \n",
        "  #y: classes originais\n",
        "  #class_: classe em que as amostras devem ser aumentadas\n",
        "  #n_mask: quantidade de mascaras\n",
        "  #param: o mascaramento é escolhido aleatoriamente entre uma distribuição uniforme entre 0 e param\n",
        "  augmented_espectrograms = []\n",
        "  augmented_class = []\n",
        "  for i in range(len(class_)):\n",
        "    for j in range(len(y)):\n",
        "      mask = n_mask\n",
        "      if y[j] == class_[i]:\n",
        "        if mask > 0:\n",
        "          time_mask = tfio.experimental.audio.time_mask(x[j], param= param)\n",
        "          mask -= 1\n",
        "          while mask > 0:\n",
        "            time_mask = tfio.experimental.audio.time_mask(time_mask, param= param)\n",
        "            mask -= 1\n",
        "          augmented_espectrograms.append(time_mask.numpy())\n",
        "          augmented_class.append(y[j])\n",
        "  return augmented_espectrograms,augmented_class            #retorna somente as amostras aumentadas"
      ],
      "execution_count": 283,
      "outputs": []
    },
    {
      "cell_type": "code",
      "metadata": {
        "id": "etH0h0DKTtOg"
      },
      "source": [
        "x_tm2,y_tm2 = time_masking(x_train, y_train, ['Bronchiectasis','Bronchiolitis', 'Healthy', 'Pneumonia','URTI'], 2, 6)\n",
        "x_tm3,y_tm3 = time_masking(x_train, y_train, ['Bronchiectasis','Bronchiolitis', 'Healthy', 'Pneumonia','URTI'], 3, 6)"
      ],
      "execution_count": 284,
      "outputs": []
    },
    {
      "cell_type": "code",
      "metadata": {
        "colab": {
          "base_uri": "https://localhost:8080/",
          "height": 269
        },
        "id": "dQLGCfLoTyZc",
        "outputId": "69d31b85-01a6-405e-9627-13f79d15dd4e"
      },
      "source": [
        "librosa.display.specshow(x_tm2[3])"
      ],
      "execution_count": 289,
      "outputs": [
        {
          "output_type": "execute_result",
          "data": {
            "text/plain": [
              "<matplotlib.collections.QuadMesh at 0x7fd8952c4e10>"
            ]
          },
          "metadata": {
            "tags": []
          },
          "execution_count": 289
        },
        {
          "output_type": "display_data",
          "data": {
            "image/png": "[encoded data removed]",
            "text/plain": [
              "<Figure size 432x288 with 1 Axes>"
            ]
          },
          "metadata": {
            "tags": []
          }
        }
      ]
    },
    {
      "cell_type": "markdown",
      "metadata": {
        "id": "vqCu4yzmVXjE"
      },
      "source": [
        "### Mascaramento de frequência e tempo"
      ]
    },
    {
      "cell_type": "code",
      "metadata": {
        "id": "qlk68R9SUMJF"
      },
      "source": [
        "x_ftm2,y_ftm2 = time_masking(x_fm3, y_fm3, ['Bronchiectasis','Bronchiolitis', 'Healthy', 'Pneumonia','URTI'], 2, 6)\n",
        "x_ftm3,y_ftm3 = time_masking(x_fm3, y_fm3, ['Bronchiectasis','Bronchiolitis', 'Healthy', 'Pneumonia','URTI'], 3, 6)"
      ],
      "execution_count": 290,
      "outputs": []
    },
    {
      "cell_type": "code",
      "metadata": {
        "colab": {
          "base_uri": "https://localhost:8080/",
          "height": 269
        },
        "id": "adyHblxmVnP2",
        "outputId": "9f1f3f60-f4b8-416e-ba4e-68a90d0742e7"
      },
      "source": [
        "librosa.display.specshow(x_ftm2[0])"
      ],
      "execution_count": 291,
      "outputs": [
        {
          "output_type": "execute_result",
          "data": {
            "text/plain": [
              "<matplotlib.collections.QuadMesh at 0x7fd89522a6d0>"
            ]
          },
          "metadata": {
            "tags": []
          },
          "execution_count": 291
        },
        {
          "output_type": "display_data",
          "data": {
            "image/png": "[encoded data removed]",
            "text/plain": [
              "<Figure size 432x288 with 1 Axes>"
            ]
          },
          "metadata": {
            "tags": []
          }
        }
      ]
    },
    {
      "cell_type": "code",
      "metadata": {
        "colab": {
          "base_uri": "https://localhost:8080/"
        },
        "id": "-4dC0Os4WKfv",
        "outputId": "f9a32ebd-a5a0-4546-8b10-592df73fb503"
      },
      "source": [
        "x_augmented = []\n",
        "y_augmented = []\n",
        "#Amostras originais\n",
        "for i in range(len(y_train)):\n",
        "  x_augmented.append(x_train[i])\n",
        "  y_augmented.append(y_train[i])\n",
        "# Amostras com mascaramento de frequência\n",
        "for i in range(len(y_fm3)):\n",
        "  x_augmented.append(x_fm3[i])\n",
        "  y_augmented.append(y_fm3[i])\n",
        "for i in range(len(y_fm4)):\n",
        "  x_augmented.append(x_fm4[i])\n",
        "  y_augmented.append(y_fm4[i])\n",
        "# Amostras com mascaramento de tempo\n",
        "for i in range(len(y_tm2)):\n",
        "  x_augmented.append(x_tm2[i])\n",
        "  y_augmented.append(y_tm2[i])\n",
        "for i in range(len(y_tm3)):\n",
        "  x_augmented.append(x_tm3[i])\n",
        "  y_augmented.append(y_tm3[i])\n",
        "# Amostras com mascaramento de frequência e tempo\n",
        "for i in range(len(y_ftm2)):\n",
        "  x_augmented.append(x_ftm2[i])\n",
        "  y_augmented.append(y_ftm2[i])\n",
        "for i in range(len(y_ftm3)):\n",
        "  x_augmented.append(x_ftm3[i])\n",
        "  y_augmented.append(y_ftm3[i])\n",
        "\n",
        "print(np.shape(x_augmented))\n",
        "print(np.shape(y_augmented))"
      ],
      "execution_count": 292,
      "outputs": [
        {
          "output_type": "stream",
          "text": [
            "(8986, 24, 438)\n",
            "(8986,)\n"
          ],
          "name": "stdout"
        }
      ]
    },
    {
      "cell_type": "code",
      "metadata": {
        "colab": {
          "base_uri": "https://localhost:8080/"
        },
        "id": "ZxojbinmXazo",
        "outputId": "a5cc46b0-2c79-4202-fb54-8f42fa6dd1c3"
      },
      "source": [
        "np.unique(y_augmented,return_counts=True)"
      ],
      "execution_count": 293,
      "outputs": [
        {
          "output_type": "execute_result",
          "data": {
            "text/plain": [
              "(array(['Bronchiectasis', 'Bronchiolitis', 'COPD', 'Healthy', 'Pneumonia',\n",
              "        'URTI'], dtype='<U14'), array([ 343,  798, 4303, 1288, 1029, 1225]))"
            ]
          },
          "metadata": {
            "tags": []
          },
          "execution_count": 293
        }
      ]
    },
    {
      "cell_type": "markdown",
      "metadata": {
        "id": "lrt0606qaLc5"
      },
      "source": [
        "# Pré processamento de imagem"
      ]
    },
    {
      "cell_type": "markdown",
      "metadata": {
        "id": "45nX6rxRcaZK"
      },
      "source": [
        "### Normalização"
      ]
    },
    {
      "cell_type": "code",
      "metadata": {
        "id": "E7bJSe3RXmeV"
      },
      "source": [
        "x_train = (x_augmented - np.min(x_augmented))/(np.max(x_augmented) - np.min(x_augmented))\n",
        "x_test = (x_test - np.min(x_test))/(np.max(x_test) - np.min(x_test))\n",
        "x_val = (x_val - np.min(x_val))/(np.max(x_val) - np.min(x_val))"
      ],
      "execution_count": 296,
      "outputs": []
    },
    {
      "cell_type": "markdown",
      "metadata": {
        "id": "jhWlWuCAcdXx"
      },
      "source": [
        "### Expandir dimensão "
      ]
    },
    {
      "cell_type": "code",
      "metadata": {
        "id": "IvNnAra8ah-1"
      },
      "source": [
        "x_train = np.expand_dims(x_train, axis = 3)\n",
        "x_test = np.expand_dims(x_test, axis = 3)\n",
        "x_val = np.expand_dims(x_val, axis = 3)"
      ],
      "execution_count": 297,
      "outputs": []
    },
    {
      "cell_type": "code",
      "metadata": {
        "colab": {
          "base_uri": "https://localhost:8080/"
        },
        "id": "Mm0MWYcwcn7l",
        "outputId": "f7cfa8fe-0392-4314-ca07-781aef047776"
      },
      "source": [
        "np.shape(x_train)"
      ],
      "execution_count": 311,
      "outputs": [
        {
          "output_type": "execute_result",
          "data": {
            "text/plain": [
              "(8986, 24, 438, 1)"
            ]
          },
          "metadata": {
            "tags": []
          },
          "execution_count": 311
        }
      ]
    },
    {
      "cell_type": "markdown",
      "metadata": {
        "id": "i7_4NRkNcqoC"
      },
      "source": [
        "### Label encoder"
      ]
    },
    {
      "cell_type": "code",
      "metadata": {
        "id": "w-_4kRUBcpUV"
      },
      "source": [
        "le = preprocessing.LabelEncoder()\n",
        "\n",
        "y_train = le.fit_transform(y_augmented)\n",
        "y_test = le.transform(y_test)\n",
        "y_val = le.transform(y_val)"
      ],
      "execution_count": 301,
      "outputs": []
    },
    {
      "cell_type": "code",
      "metadata": {
        "colab": {
          "base_uri": "https://localhost:8080/"
        },
        "id": "jPwKKHuAdGdt",
        "outputId": "f3328886-67d5-4ec4-c91e-46bc782d9072"
      },
      "source": [
        "np.unique(y_train)\n",
        "list(le.classes_)"
      ],
      "execution_count": 302,
      "outputs": [
        {
          "output_type": "execute_result",
          "data": {
            "text/plain": [
              "['Bronchiectasis', 'Bronchiolitis', 'COPD', 'Healthy', 'Pneumonia', 'URTI']"
            ]
          },
          "metadata": {
            "tags": []
          },
          "execution_count": 302
        }
      ]
    },
    {
      "cell_type": "markdown",
      "metadata": {
        "id": "m1BAZE53dcCA"
      },
      "source": [
        "# Extrator de características"
      ]
    },
    {
      "cell_type": "markdown",
      "metadata": {
        "id": "0uGyPhTIdm8L"
      },
      "source": [
        "## Rede siamesa com triplet loss online semi-hard"
      ]
    },
    {
      "cell_type": "markdown",
      "metadata": {
        "id": "VD_CfV8WePws"
      },
      "source": [
        "![image.png](data:image/png;base64,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)"
      ]
    },
    {
      "cell_type": "code",
      "metadata": {
        "id": "HnlZLDT-dZe1"
      },
      "source": [
        "def minibatch_generator(x_set,y_set, sample_per_class):\n",
        "  # x_set: amostras\n",
        "  # y_set: rótulos\n",
        "  # sample_per_class: quantidade de amostras por classe\n",
        "  while True:\n",
        "    classes = len(y_set)\n",
        "    mini_batch = []\n",
        "    labels = []\n",
        "    cont_0 = 0\n",
        "    cont_1 = 0\n",
        "    cont_2 = 0\n",
        "    cont_3 = 0\n",
        "    cont_4 = 0\n",
        "    cont_5 = 0\n",
        "    while len(mini_batch) < sample_per_class* len(np.unique(y_set)):\n",
        "      sample = np.random.randint(classes)\n",
        "      if (cont_0 < sample_per_class) and (y_set[sample]==0) :\n",
        "        mini_batch.append(x_set[sample])\n",
        "        labels.append(y_set[sample])\n",
        "        cont_0 += 1\n",
        "      elif (cont_1 < sample_per_class) and (y_set[sample]==1):\n",
        "        mini_batch.append(x_set[sample])\n",
        "        labels.append(y_set[sample])\n",
        "        cont_1 += 1\n",
        "      elif (cont_2 < sample_per_class) and (y_set[sample]==2):\n",
        "        mini_batch.append(x_set[sample])\n",
        "        labels.append(y_set[sample])\n",
        "        cont_2 += 1\n",
        "      elif (cont_3 < sample_per_class) and (y_set[sample]==3):\n",
        "        mini_batch.append(x_set[sample])\n",
        "        labels.append(y_set[sample])\n",
        "        cont_3 += 1\n",
        "      elif (cont_4 < sample_per_class) and (y_set[sample]==4):\n",
        "        mini_batch.append(x_set[sample])\n",
        "        labels.append(y_set[sample])\n",
        "        cont_4 += 1\n",
        "      elif (cont_5 < sample_per_class) and (y_set[sample]==5):\n",
        "        mini_batch.append(x_set[sample])\n",
        "        labels.append(y_set[sample])\n",
        "        cont_5 += 1\n",
        "    mini_batch = np.array(mini_batch, dtype=\"float32\")\n",
        "    yield mini_batch,np.array(labels)"
      ],
      "execution_count": 9,
      "outputs": []
    },
    {
      "cell_type": "code",
      "metadata": {
        "id": "xY5vWpCheLsW"
      },
      "source": [
        "def embedding_model_online():\n",
        "  model = Sequential()\n",
        "\n",
        "  model.add(Convolution2D(64, (2,2), padding = 'same', activation='relu', input_shape=(np.shape(x_train)[1],np.shape(x_train)[2],1), name=\"conv1_embedding\"))\n",
        "  model.add(MaxPooling2D(pool_size=(2,2),name = \"maxpool_1\"))\n",
        "  model.add(Dropout(0.3,name = \"dropout_1\"))\n",
        "\n",
        "  model.add(Convolution2D(32, (2,2), padding = 'same', activation='relu', name = 'conv_2'))\n",
        "  model.add(MaxPooling2D(pool_size=(2,2),name = \"maxpool_2\"))\n",
        "  model.add(Dropout(0.3,name = \"dropout_2\"))\n",
        "\n",
        "  model.add(Flatten(name = \"flatten_1\"))\n",
        "  model.add(Dense(128, activation=None))\n",
        "  model.add(Lambda(lambda x: tf.math.l2_normalize(x, axis=1)))\n",
        "  return model"
      ],
      "execution_count": 10,
      "outputs": []
    },
    {
      "cell_type": "code",
      "metadata": {
        "id": "lhKWSNXce9h9"
      },
      "source": [
        "sample_per_class = 5\n",
        "train_generator = minibatch_generator(x_train,y_train,sample_per_class)\n",
        "validation_generator = minibatch_generator(x_val,y_val,sample_per_class)\n",
        "test_generator = minibatch_generator(x_test,y_test,sample_per_class)"
      ],
      "execution_count": 11,
      "outputs": []
    },
    {
      "cell_type": "code",
      "metadata": {
        "id": "coux1duSfWKu"
      },
      "source": [
        "batch_size = sample_per_class * len(np.unique(y_train))\n",
        "patience = 10\n",
        "epochs = 100"
      ],
      "execution_count": 12,
      "outputs": []
    },
    {
      "cell_type": "code",
      "metadata": {
        "colab": {
          "base_uri": "https://localhost:8080/"
        },
        "id": "IV3a0IH1fxPG",
        "outputId": "ea832ec5-ed4e-4fe0-9492-6b47bbd2ae7a"
      },
      "source": [
        "embedding_model_online = embedding_model_online()\n",
        "embedding_model_online.compile(optimizer=tf.keras.optimizers.Adam(0.001),loss=tfa.losses.TripletSemiHardLoss(0.2))\n",
        "es = EarlyStopping(monitor='val_loss', patience=patience,verbose=2,mode='min', restore_best_weights=True)\n",
        "history = embedding_model_online.fit_generator(generator = train_generator, \n",
        "                                                validation_data = validation_generator, \n",
        "                                                steps_per_epoch = len(y_train) // batch_size,\n",
        "                                                validation_steps= len(y_val) // batch_size,\n",
        "                                                epochs=epochs,\n",
        "                                                verbose = 1,\n",
        "                                                callbacks=[es])"
      ],
      "execution_count": 13,
      "outputs": [
        {
          "output_type": "stream",
          "text": [
            "/usr/local/lib/python3.7/dist-packages/tensorflow/python/keras/engine/training.py:1844: UserWarning: `Model.fit_generator` is deprecated and will be removed in a future version. Please use `Model.fit`, which supports generators.\n",
            "  warnings.warn('`Model.fit_generator` is deprecated and '\n"
          ],
          "name": "stderr"
        },
        {
          "output_type": "stream",
          "text": [
            "Epoch 1/100\n",
            "299/299 [==============================] - 43s 30ms/step - loss: 0.1496 - val_loss: 0.1619\n",
            "Epoch 2/100\n",
            "299/299 [==============================] - 9s 29ms/step - loss: 0.1308 - val_loss: 0.1350\n",
            "Epoch 3/100\n",
            "299/299 [==============================] - 9s 30ms/step - loss: 0.1258 - val_loss: 0.1298\n",
            "Epoch 4/100\n",
            "299/299 [==============================] - 9s 29ms/step - loss: 0.1230 - val_loss: 0.1364\n",
            "Epoch 5/100\n",
            "299/299 [==============================] - 8s 28ms/step - loss: 0.1178 - val_loss: 0.1346\n",
            "Epoch 6/100\n",
            "299/299 [==============================] - 9s 29ms/step - loss: 0.1130 - val_loss: 0.1396\n",
            "Epoch 7/100\n",
            "299/299 [==============================] - 9s 30ms/step - loss: 0.1067 - val_loss: 0.1414\n",
            "Epoch 8/100\n",
            "299/299 [==============================] - 9s 29ms/step - loss: 0.0982 - val_loss: 0.1390\n",
            "Epoch 9/100\n",
            "299/299 [==============================] - 9s 29ms/step - loss: 0.0906 - val_loss: 0.1391\n",
            "Epoch 10/100\n",
            "299/299 [==============================] - 9s 29ms/step - loss: 0.0798 - val_loss: 0.1439\n",
            "Epoch 11/100\n",
            "299/299 [==============================] - 9s 29ms/step - loss: 0.0706 - val_loss: 0.1356\n",
            "Epoch 12/100\n",
            "299/299 [==============================] - 8s 28ms/step - loss: 0.0600 - val_loss: 0.1441\n",
            "Epoch 13/100\n",
            "299/299 [==============================] - 9s 29ms/step - loss: 0.0548 - val_loss: 0.1348\n",
            "Restoring model weights from the end of the best epoch.\n",
            "Epoch 00013: early stopping\n"
          ],
          "name": "stdout"
        }
      ]
    },
    {
      "cell_type": "markdown",
      "metadata": {
        "id": "yAOK887wrDlt"
      },
      "source": [
        "## Rede siamesa com triplet loss offline"
      ]
    },
    {
      "cell_type": "markdown",
      "metadata": {
        "id": "ikHH_PUorNbO"
      },
      "source": [
        "![image.png](data:image/png;base64,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)"
      ]
    },
    {
      "cell_type": "code",
      "metadata": {
        "id": "7d_44ZTKgfbW"
      },
      "source": [
        "def get_image(x_set,y_set,label):\n",
        "    y = y_set \n",
        "    x = x_set\n",
        "    idx = np.random.randint(len(y))\n",
        "    while y[idx] != label:\n",
        "        idx = np.random.randint(len(y)) \n",
        "    return x[idx]\n",
        "\n",
        "def get_triplet(x_set,y_set):\n",
        "    classes = len(np.unique(y_set))\n",
        "    negative = anchor = np.random.randint(classes) #choose an anchor\n",
        "    while negative == anchor:\n",
        "        negative = np.random.randint(classes) #get a negative\n",
        "    anchor, positive = get_image(x_set, y_set, anchor), get_image(x_set, y_set, anchor)\n",
        "    negative = get_image(x_set, y_set, negative)\n",
        "    return anchor, positive, negative\n",
        "\n",
        "#Gerador de triplets\n",
        "def triplets_generator(x_set,y_set):\n",
        "  # x_set: amostras\n",
        "  # y_set: rótulos\n",
        "  while True:\n",
        "      list_anchor = []\n",
        "      list_positive = []\n",
        "      list_negative = []\n",
        "\n",
        "      for i in range(batch_size):\n",
        "          anchor, positive, negative = get_triplet(x_set,y_set)\n",
        "          list_anchor.append(anchor)\n",
        "          list_positive.append(positive)\n",
        "          list_negative.append(negative)\n",
        "            \n",
        "      A = np.array(list_anchor, dtype='float32')\n",
        "      P = np.array(list_positive, dtype='float32')\n",
        "      N = np.array(list_negative, dtype='float32')\n",
        "      label = np.ones(batch_size)\n",
        "      yield [A, P, N], label\n"
      ],
      "execution_count": 15,
      "outputs": []
    },
    {
      "cell_type": "code",
      "metadata": {
        "id": "dhIbrFWrrqBB"
      },
      "source": [
        "#Função da triplet loss\n",
        "def identity_loss(y_true, y_pred):\n",
        "    return K.cast(K.mean(y_pred), dtype='float64')\n",
        "\n",
        "def triplet_loss(inputs, alpha=0.2):\n",
        "    anchor,positive,negative = inputs\n",
        "    positive_distance = K.sqrt(K.sum(K.square(anchor-positive),axis=1))\n",
        "    negative_distance = K.sqrt(K.sum(K.square(anchor-negative),axis=1))\n",
        "    basic_loss = positive_distance - negative_distance + alpha\n",
        "    loss = K.maximum(basic_loss,0.0)\n",
        "    return loss"
      ],
      "execution_count": 16,
      "outputs": []
    },
    {
      "cell_type": "code",
      "metadata": {
        "id": "Ai9LzqopsPYm"
      },
      "source": [
        "def embedding_model_offline():\n",
        "  model = Sequential()\n",
        "\n",
        "  model.add(Convolution2D(64, (2,2), padding = 'same', activation='relu', input_shape=(np.shape(x_train)[1],np.shape(x_train)[2],1), name=\"conv1_embedding\"))\n",
        "  model.add(MaxPooling2D(pool_size=(2,2),name = \"maxpool_1\"))\n",
        "  model.add(Dropout(0.3,name = \"dropout_1\"))\n",
        "\n",
        "  model.add(Convolution2D(32, (2,2), padding = 'same', activation='relu', name = 'conv_2'))\n",
        "  model.add(MaxPooling2D(pool_size=(2,2),name = \"maxpool_2\"))\n",
        "  model.add(Dropout(0.3,name = \"dropout_2\"))\n",
        "\n",
        "  model.add(Flatten(name = \"flatten_1\"))\n",
        "  model.add(Dense(128, activation=None))\n",
        "  model.add(Lambda(lambda x: tf.math.l2_normalize(x, axis=1)))\n",
        "  return model\n",
        "\n",
        "def complete_model(base_model):\n",
        "    input_1 = Input((np.shape(x_train)[1],np.shape(x_train)[2],1), name = \"anchor\")\n",
        "    input_2 = Input((np.shape(x_train)[1],np.shape(x_train)[2],1), name = \"positive\")\n",
        "    input_3 = Input((np.shape(x_train)[1],np.shape(x_train)[2],1), name = \"negative\")\n",
        "        \n",
        "    A = base_model(input_1)\n",
        "    P = base_model(input_2)\n",
        "    N = base_model(input_3)\n",
        "\n",
        "    loss = Lambda(triplet_loss)([A, P, N]) \n",
        "    model = Model(inputs=[input_1, input_2, input_3], outputs=loss)\n",
        "    return model"
      ],
      "execution_count": 17,
      "outputs": []
    },
    {
      "cell_type": "code",
      "metadata": {
        "id": "beKVefL6txz6"
      },
      "source": [
        "batch_size = 4\n",
        "patience = 10\n",
        "epochs = 100"
      ],
      "execution_count": 18,
      "outputs": []
    },
    {
      "cell_type": "code",
      "metadata": {
        "id": "bZNR70RyuFOc"
      },
      "source": [
        "train_generator = triplets_generator(x_train,y_train)\n",
        "test_generator = triplets_generator(x_test,y_test)\n",
        "validation_generator = triplets_generator(x_val,y_val)"
      ],
      "execution_count": 19,
      "outputs": []
    },
    {
      "cell_type": "code",
      "metadata": {
        "colab": {
          "base_uri": "https://localhost:8080/"
        },
        "id": "S5h6_JH-tGWn",
        "outputId": "11a5084b-e219-45e6-c7ee-4b52694be611"
      },
      "source": [
        "embedding_model_offline = embedding_model_offline()\n",
        "complete_embedding_model_offline = complete_model(embedding_model_offline)\n",
        "complete_embedding_model_offline.compile(loss=identity_loss, optimizer=Adam(0.001))\n",
        "es = EarlyStopping(monitor='val_loss', patience=patience,verbose=2,mode='min', restore_best_weights=True)\n",
        "history = complete_embedding_model_offline.fit_generator(generator = train_generator, \n",
        "                                                validation_data = validation_generator, \n",
        "                                                steps_per_epoch = len(y_train) // batch_size,\n",
        "                                                validation_steps= len(y_val) // batch_size,\n",
        "                                                epochs=epochs,\n",
        "                                                verbose = 1,\n",
        "                                                callbacks=[es])"
      ],
      "execution_count": 20,
      "outputs": [
        {
          "output_type": "stream",
          "text": [
            "/usr/local/lib/python3.7/dist-packages/tensorflow/python/keras/engine/training.py:1844: UserWarning: `Model.fit_generator` is deprecated and will be removed in a future version. Please use `Model.fit`, which supports generators.\n",
            "  warnings.warn('`Model.fit_generator` is deprecated and '\n"
          ],
          "name": "stderr"
        },
        {
          "output_type": "stream",
          "text": [
            "Epoch 1/100\n",
            "2246/2246 [==============================] - 23s 10ms/step - loss: 0.1815 - val_loss: 0.1623\n",
            "Epoch 2/100\n",
            "2246/2246 [==============================] - 22s 10ms/step - loss: 0.1557 - val_loss: 0.1593\n",
            "Epoch 3/100\n",
            "2246/2246 [==============================] - 22s 10ms/step - loss: 0.1285 - val_loss: 0.1523\n",
            "Epoch 4/100\n",
            "2246/2246 [==============================] - 22s 10ms/step - loss: 0.1066 - val_loss: 0.1777\n",
            "Epoch 5/100\n",
            "2246/2246 [==============================] - 22s 10ms/step - loss: 0.0860 - val_loss: 0.1677\n",
            "Epoch 6/100\n",
            "2246/2246 [==============================] - 22s 10ms/step - loss: 0.0722 - val_loss: 0.1681\n",
            "Epoch 7/100\n",
            "2246/2246 [==============================] - 22s 10ms/step - loss: 0.0613 - val_loss: 0.1789\n",
            "Epoch 8/100\n",
            "2246/2246 [==============================] - 22s 10ms/step - loss: 0.0502 - val_loss: 0.1659\n",
            "Epoch 9/100\n",
            "2246/2246 [==============================] - 22s 10ms/step - loss: 0.0426 - val_loss: 0.1752\n",
            "Epoch 10/100\n",
            "2246/2246 [==============================] - 22s 10ms/step - loss: 0.0328 - val_loss: 0.1722\n",
            "Epoch 11/100\n",
            "2246/2246 [==============================] - 22s 10ms/step - loss: 0.0311 - val_loss: 0.1750\n",
            "Epoch 12/100\n",
            "2246/2246 [==============================] - 22s 10ms/step - loss: 0.0242 - val_loss: 0.1779\n",
            "Epoch 13/100\n",
            "2246/2246 [==============================] - 22s 10ms/step - loss: 0.0227 - val_loss: 0.1958\n",
            "Restoring model weights from the end of the best epoch.\n",
            "Epoch 00013: early stopping\n"
          ],
          "name": "stdout"
        }
      ]
    },
    {
      "cell_type": "markdown",
      "metadata": {
        "id": "aaUOe0KJ4Yzk"
      },
      "source": [
        "# Classificador: K-nn"
      ]
    },
    {
      "cell_type": "code",
      "metadata": {
        "id": "BdqH6Qnr5ZNj"
      },
      "source": [
        "X_train_online = embedding_model_online.predict(x_train)\n",
        "X_test_online = embedding_model_online.predict(x_test)\n",
        "\n",
        "X_train_offline = embedding_model_offline.predict(x_train)\n",
        "X_test_offline = embedding_model_offline.predict(x_test)\n"
      ],
      "execution_count": 26,
      "outputs": []
    },
    {
      "cell_type": "markdown",
      "metadata": {
        "id": "ysJk-5354-h1"
      },
      "source": [
        "## Classificação das características extraídas online"
      ]
    },
    {
      "cell_type": "code",
      "metadata": {
        "colab": {
          "base_uri": "https://localhost:8080/"
        },
        "id": "-bmkR-Q1tr2O",
        "outputId": "534fc8d0-bcf1-4581-fe59-ed184eb994ab"
      },
      "source": [
        "knn = KNeighborsClassifier(n_neighbors=4, weights = 'distance', metric = 'euclidean')\n",
        "knn.fit(X_train_online, y_train)\n",
        "y_pred = knn.predict(X_test_online)\n",
        "print(confusion_matrix(y_test,y_pred))\n",
        "print(classification_report(y_test,y_pred))  \n",
        "print(\"Acurácia kNN:\", accuracy_score(y_test, y_pred))"
      ],
      "execution_count": 45,
      "outputs": [
        {
          "output_type": "stream",
          "text": [
            "[[  0   2  35   0   0   4]\n",
            " [  0   2  21   0   1   3]\n",
            " [  3   8 393   7   4  11]\n",
            " [  0   0  25   1   6   0]\n",
            " [  0   0  25   0   1   0]\n",
            " [  0   5  19   0   0   2]]\n",
            "              precision    recall  f1-score   support\n",
            "\n",
            "           0       0.00      0.00      0.00        41\n",
            "           1       0.12      0.07      0.09        27\n",
            "           2       0.76      0.92      0.83       426\n",
            "           3       0.12      0.03      0.05        32\n",
            "           4       0.08      0.04      0.05        26\n",
            "           5       0.10      0.08      0.09        26\n",
            "\n",
            "    accuracy                           0.69       578\n",
            "   macro avg       0.20      0.19      0.19       578\n",
            "weighted avg       0.58      0.69      0.63       578\n",
            "\n",
            "Acurácia kNN: 0.6903114186851211\n"
          ],
          "name": "stdout"
        }
      ]
    },
    {
      "cell_type": "markdown",
      "metadata": {
        "id": "bmM0UFla5OHx"
      },
      "source": [
        "## Classificação das características extraídas offline"
      ]
    },
    {
      "cell_type": "code",
      "metadata": {
        "colab": {
          "base_uri": "https://localhost:8080/"
        },
        "id": "73BkiRJQ5Q_J",
        "outputId": "3caca709-dcb4-4fd8-e684-0ae63f4f9833"
      },
      "source": [
        "knn = KNeighborsClassifier(n_neighbors=2, weights = 'distance', metric = 'euclidean')\n",
        "knn.fit(X_train_offline, y_train)\n",
        "y_pred = knn.predict(X_test_offline)\n",
        "print(confusion_matrix(y_test,y_pred))\n",
        "print(classification_report(y_test,y_pred))  \n",
        "print(\"Acurácia kNN:\", accuracy_score(y_test, y_pred))"
      ],
      "execution_count": 53,
      "outputs": [
        {
          "output_type": "stream",
          "text": [
            "[[  1   0  33   2   1   4]\n",
            " [  0   0  21   4   0   2]\n",
            " [  0  12 353  24  21  16]\n",
            " [  0   0  24   5   3   0]\n",
            " [  0   0  21   0   5   0]\n",
            " [  0   2  19   2   0   3]]\n",
            "              precision    recall  f1-score   support\n",
            "\n",
            "           0       1.00      0.02      0.05        41\n",
            "           1       0.00      0.00      0.00        27\n",
            "           2       0.75      0.83      0.79       426\n",
            "           3       0.14      0.16      0.14        32\n",
            "           4       0.17      0.19      0.18        26\n",
            "           5       0.12      0.12      0.12        26\n",
            "\n",
            "    accuracy                           0.63       578\n",
            "   macro avg       0.36      0.22      0.21       578\n",
            "weighted avg       0.64      0.63      0.60       578\n",
            "\n",
            "Acurácia kNN: 0.6349480968858131\n"
          ],
          "name": "stdout"
        }
      ]
    }
  ]
}